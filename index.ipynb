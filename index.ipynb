{
 "cells": [
  {
   "cell_type": "markdown",
   "id": "8f55016a",
   "metadata": {},
   "source": [
    "# Independent Project 2: More Data, More Visualizations"
   ]
  },
  {
   "cell_type": "markdown",
   "id": "17ca7d09-ff9e-46fd-ac80-e1c072a04d3f",
   "metadata": {},
   "source": [
    "## Introduction"
   ]
  },
  {
   "cell_type": "markdown",
   "id": "741d4f02-ee62-4a8c-b846-5bd84682a03e",
   "metadata": {},
   "source": [
    " Karamoja is the most food-insecure region of Uganda. One of the main reasons is the low productivity level of the crops due to intense droughts as well as pest and disease outbreaks. [Karamoja (Links to an external site.)Links to an external site.](https://en.wikipedia.org/wiki/Karamoja)\n",
    "\n",
    "In Karamoja, several NGOs provide technical support as well as farm inputs to the farmers experiencing extremely low yield. Though, they lack visibility into the overall state of the region and often need to rely on some very local sources of information to prioritize their activities.\n",
    "Dalberg Data Insights (DDI) has been requested to develop a new food security monitoring tool to support the decision making of one of those NGOs active in Karamoja.\n",
    "\n",
    "To do so, Dalberg Data Insights developed a methodology to remotely measure the yield of the two main staple crops of the region (i.e. sorghum and maize) based on satellite images. The agri-tech team just ran the model for the 2017 crop season.(Use the information and the (`datasource from canvas page)` to import, clean up, analyze (using descriptive statistics) and `visualizing data on the (Tableau public site)` . \n"
   ]
  },
  {
   "cell_type": "markdown",
   "id": "7b5a5d80-1e33-4017-8ceb-9b838cc63d45",
   "metadata": {},
   "source": [
    "##  Objectives"
   ]
  },
  {
   "cell_type": "markdown",
   "id": "8260c621-cbdd-4fc3-8882-3b9192daf091",
   "metadata": {},
   "source": [
    "For this project, we shall be able to:\n",
    "\n",
    "* **Conduct data importation and preprocessing.**\n",
    "    + load the dataset(s) within the notebook.\n",
    "    + Perform data cleaning, handling missing values, remove duplicates if there, and ensuring data is properly formatted for analysis. \n",
    "* **Conduct descriptive Statistics and Exploratory Data Analysis (EDA).**\n",
    "    + Calculate summary statistics(mean, median,standard deviation, etc.) for key variables related to crop yield and food security.\n",
    "    + Identify trends and patterns in the data through correlation analysis and feature distributions.\n",
    "* **Data Visualization and Geographic Mapping within the tableau public**\n",
    "    * Within the jupyter notebook and Tableau workbook create visuals such as(heatmaps,crosstabs, barcharts, geographical maps, scatterplots,etc) interpreting the :\n",
    "       + Crop area production and Geospatial distribution.\n",
    "       + Population Density vs Food production.\n",
    "       + identfy crops distribution by subcounty or district .\n",
    "       + High risk areas for food insecurity.\n",
    "       + Predictions for future crop yields for early warning system.\n",
    "* **Integration with Tableau Public for Stakeholder Decision-Making.**\n",
    "  + Prepare and export cleaned and analyzed data in a format compatible with Tableau Public.\n",
    "  + Develop interactive dashboards in Tableau to enhance NGO decision-making by providing insights into food security trends.\n",
    "* **Perform a full exploratory data analysis process to gain insight about  the dataset.**\n"
   ]
  },
  {
   "cell_type": "markdown",
   "id": "09cd463b-2671-4635-aa0a-d0b4137f2445",
   "metadata": {},
   "source": [
    "## For Non_techniqual presentation [here is the link](https://docs.google.com/presentation/d/113SbwIZGr-ZVTWJ25IEjW2MAjJOxh2W77ALM-Ocd8Hg/edit?usp=sharing)"
   ]
  },
  {
   "cell_type": "markdown",
   "id": "c277ac40-ca92-49d5-bc15-28466258a68d",
   "metadata": {},
   "source": [
    "### For the tableau visualization [click here]((https://public.tableau.com/app/profile/wawira.muriithi/viz/Independentproject2learn_wb_2025-02-07))"
   ]
  },
  {
   "cell_type": "markdown",
   "id": "9e9439a3-96b6-41af-83f6-e76502bfb733",
   "metadata": {},
   "source": [
    "### 1. Load the Uganda_karamoja_district_crop_yield.csv and the Uganda_karamoja_sub-county_crop_yield.csv dataset. with pandas"
   ]
  },
  {
   "cell_type": "code",
   "execution_count": 4,
   "id": "11316a1d-51d5-4a0d-96bb-58d8a3b98454",
   "metadata": {},
   "outputs": [],
   "source": [
    "import pandas as pd\n",
    "import matplotlib.pyplot as plt\n",
    "%matplotlib inline                   "
   ]
  },
  {
   "cell_type": "markdown",
   "id": "8dfe0bc4-b597-412c-98d7-74e4ee91a2aa",
   "metadata": {},
   "source": [
    "**Load the first dataset(`Uganda_karamoja_district_crop_yield.csv`)**"
   ]
  },
  {
   "cell_type": "code",
   "execution_count": 6,
   "id": "9ec80ffb-2cf2-4862-9864-708c8f92be5d",
   "metadata": {},
   "outputs": [
    {
     "data": {
      "text/html": [
       "<div>\n",
       "<style scoped>\n",
       "    .dataframe tbody tr th:only-of-type {\n",
       "        vertical-align: middle;\n",
       "    }\n",
       "\n",
       "    .dataframe tbody tr th {\n",
       "        vertical-align: top;\n",
       "    }\n",
       "\n",
       "    .dataframe thead th {\n",
       "        text-align: right;\n",
       "    }\n",
       "</style>\n",
       "<table border=\"1\" class=\"dataframe\">\n",
       "  <thead>\n",
       "    <tr style=\"text-align: right;\">\n",
       "      <th></th>\n",
       "      <th>OBJECTID</th>\n",
       "      <th>NAME</th>\n",
       "      <th>POP</th>\n",
       "      <th>Area</th>\n",
       "      <th>S_Yield_Ha</th>\n",
       "      <th>M_Yield_Ha</th>\n",
       "      <th>Crop_Area_Ha</th>\n",
       "      <th>S_Area_Ha</th>\n",
       "      <th>M_Area_Ha</th>\n",
       "      <th>S_Prod_Tot</th>\n",
       "      <th>M_Prod_Tot</th>\n",
       "    </tr>\n",
       "  </thead>\n",
       "  <tbody>\n",
       "    <tr>\n",
       "      <th>0</th>\n",
       "      <td>92</td>\n",
       "      <td>ABIM</td>\n",
       "      <td>90385</td>\n",
       "      <td>2771977106</td>\n",
       "      <td>449</td>\n",
       "      <td>1040</td>\n",
       "      <td>5470.068394</td>\n",
       "      <td>3277.295971</td>\n",
       "      <td>1848.621855</td>\n",
       "      <td>1471506</td>\n",
       "      <td>1922567</td>\n",
       "    </tr>\n",
       "    <tr>\n",
       "      <th>1</th>\n",
       "      <td>96</td>\n",
       "      <td>AMUDAT</td>\n",
       "      <td>101790</td>\n",
       "      <td>1643582836</td>\n",
       "      <td>205</td>\n",
       "      <td>1297</td>\n",
       "      <td>5765.443719</td>\n",
       "      <td>2973.423860</td>\n",
       "      <td>2733.661014</td>\n",
       "      <td>609552</td>\n",
       "      <td>3545558</td>\n",
       "    </tr>\n",
       "    <tr>\n",
       "      <th>2</th>\n",
       "      <td>20</td>\n",
       "      <td>KAABONG</td>\n",
       "      <td>627057</td>\n",
       "      <td>7373606003</td>\n",
       "      <td>279</td>\n",
       "      <td>945</td>\n",
       "      <td>28121.672530</td>\n",
       "      <td>20544.194960</td>\n",
       "      <td>7394.416334</td>\n",
       "      <td>5731830</td>\n",
       "      <td>6987723</td>\n",
       "    </tr>\n",
       "    <tr>\n",
       "      <th>3</th>\n",
       "      <td>85</td>\n",
       "      <td>KOTIDO</td>\n",
       "      <td>243157</td>\n",
       "      <td>3641539808</td>\n",
       "      <td>331</td>\n",
       "      <td>1148</td>\n",
       "      <td>53032.649450</td>\n",
       "      <td>50247.443900</td>\n",
       "      <td>1751.372284</td>\n",
       "      <td>16631904</td>\n",
       "      <td>2010575</td>\n",
       "    </tr>\n",
       "    <tr>\n",
       "      <th>4</th>\n",
       "      <td>5</td>\n",
       "      <td>MOROTO</td>\n",
       "      <td>127811</td>\n",
       "      <td>3570160948</td>\n",
       "      <td>128</td>\n",
       "      <td>355</td>\n",
       "      <td>5954.814048</td>\n",
       "      <td>4741.748776</td>\n",
       "      <td>1190.050606</td>\n",
       "      <td>606944</td>\n",
       "      <td>422468</td>\n",
       "    </tr>\n",
       "    <tr>\n",
       "      <th>5</th>\n",
       "      <td>54</td>\n",
       "      <td>NAKAPIRIPIRIT</td>\n",
       "      <td>146780</td>\n",
       "      <td>4216323900</td>\n",
       "      <td>356</td>\n",
       "      <td>1264</td>\n",
       "      <td>26372.698490</td>\n",
       "      <td>19237.333210</td>\n",
       "      <td>6425.788414</td>\n",
       "      <td>6848491</td>\n",
       "      <td>8122197</td>\n",
       "    </tr>\n",
       "    <tr>\n",
       "      <th>6</th>\n",
       "      <td>80</td>\n",
       "      <td>NAPAK</td>\n",
       "      <td>167625</td>\n",
       "      <td>4508782023</td>\n",
       "      <td>137</td>\n",
       "      <td>854</td>\n",
       "      <td>22944.296020</td>\n",
       "      <td>16142.015880</td>\n",
       "      <td>6543.719066</td>\n",
       "      <td>2211456</td>\n",
       "      <td>5588336</td>\n",
       "    </tr>\n",
       "  </tbody>\n",
       "</table>\n",
       "</div>"
      ],
      "text/plain": [
       "   OBJECTID           NAME     POP        Area  S_Yield_Ha  M_Yield_Ha  \\\n",
       "0        92           ABIM   90385  2771977106         449        1040   \n",
       "1        96         AMUDAT  101790  1643582836         205        1297   \n",
       "2        20        KAABONG  627057  7373606003         279         945   \n",
       "3        85         KOTIDO  243157  3641539808         331        1148   \n",
       "4         5         MOROTO  127811  3570160948         128         355   \n",
       "5        54  NAKAPIRIPIRIT  146780  4216323900         356        1264   \n",
       "6        80          NAPAK  167625  4508782023         137         854   \n",
       "\n",
       "   Crop_Area_Ha     S_Area_Ha    M_Area_Ha  S_Prod_Tot  M_Prod_Tot  \n",
       "0   5470.068394   3277.295971  1848.621855     1471506     1922567  \n",
       "1   5765.443719   2973.423860  2733.661014      609552     3545558  \n",
       "2  28121.672530  20544.194960  7394.416334     5731830     6987723  \n",
       "3  53032.649450  50247.443900  1751.372284    16631904     2010575  \n",
       "4   5954.814048   4741.748776  1190.050606      606944      422468  \n",
       "5  26372.698490  19237.333210  6425.788414     6848491     8122197  \n",
       "6  22944.296020  16142.015880  6543.719066     2211456     5588336  "
      ]
     },
     "execution_count": 6,
     "metadata": {},
     "output_type": "execute_result"
    }
   ],
   "source": [
    "#write a code that loads the Uganda_karamoja_district_crop_yield.csv\n",
    "df= pd.read_csv('Uganda_Karamoja_District_Crop_Yield_Population.csv')\n",
    "df"
   ]
  },
  {
   "cell_type": "markdown",
   "id": "2fb2b71d-be4f-4040-be21-9ca081362a32",
   "metadata": {},
   "source": [
    "**Load the second dataset(`Uganda_karamoja_sub-county_crop_yield.csv`)**"
   ]
  },
  {
   "cell_type": "code",
   "execution_count": 9,
   "id": "58fc51a5-f0a1-4740-b3a9-e0a32668ae94",
   "metadata": {
    "scrolled": true
   },
   "outputs": [
    {
     "data": {
      "text/html": [
       "<div>\n",
       "<style scoped>\n",
       "    .dataframe tbody tr th:only-of-type {\n",
       "        vertical-align: middle;\n",
       "    }\n",
       "\n",
       "    .dataframe tbody tr th {\n",
       "        vertical-align: top;\n",
       "    }\n",
       "\n",
       "    .dataframe thead th {\n",
       "        text-align: right;\n",
       "    }\n",
       "</style>\n",
       "<table border=\"1\" class=\"dataframe\">\n",
       "  <thead>\n",
       "    <tr style=\"text-align: right;\">\n",
       "      <th></th>\n",
       "      <th>OBJECTID</th>\n",
       "      <th>SUBCOUNTY_NAME</th>\n",
       "      <th>DISTRICT_NAME</th>\n",
       "      <th>POP</th>\n",
       "      <th>Area</th>\n",
       "      <th>Karamoja</th>\n",
       "      <th>S_Yield_Ha</th>\n",
       "      <th>M_Yield_Ha</th>\n",
       "      <th>Crop_Area_Ha</th>\n",
       "      <th>S_Area_Ha</th>\n",
       "      <th>M_Area_Ha</th>\n",
       "      <th>S_Prod_Tot</th>\n",
       "      <th>M_Prod_Tot</th>\n",
       "    </tr>\n",
       "  </thead>\n",
       "  <tbody>\n",
       "    <tr>\n",
       "      <th>0</th>\n",
       "      <td>263</td>\n",
       "      <td>KACHERI</td>\n",
       "      <td>KOTIDO</td>\n",
       "      <td>17244</td>\n",
       "      <td>1067176155</td>\n",
       "      <td>Y</td>\n",
       "      <td>354.207411</td>\n",
       "      <td>1137.467019</td>\n",
       "      <td>7023.533691</td>\n",
       "      <td>6434.342449</td>\n",
       "      <td>528.124229</td>\n",
       "      <td>2.279092e+06</td>\n",
       "      <td>600723.892900</td>\n",
       "    </tr>\n",
       "    <tr>\n",
       "      <th>1</th>\n",
       "      <td>264</td>\n",
       "      <td>KOTIDO</td>\n",
       "      <td>KOTIDO</td>\n",
       "      <td>52771</td>\n",
       "      <td>597575188</td>\n",
       "      <td>Y</td>\n",
       "      <td>367.890523</td>\n",
       "      <td>1162.996687</td>\n",
       "      <td>13587.990760</td>\n",
       "      <td>12455.592640</td>\n",
       "      <td>824.767081</td>\n",
       "      <td>4.582294e+06</td>\n",
       "      <td>959201.382500</td>\n",
       "    </tr>\n",
       "    <tr>\n",
       "      <th>2</th>\n",
       "      <td>265</td>\n",
       "      <td>KOTIDO TOWN COUNCIL</td>\n",
       "      <td>KOTIDO</td>\n",
       "      <td>27389</td>\n",
       "      <td>23972401</td>\n",
       "      <td>Y</td>\n",
       "      <td>369.314177</td>\n",
       "      <td>1167.005832</td>\n",
       "      <td>1656.531855</td>\n",
       "      <td>1520.322052</td>\n",
       "      <td>8.561644</td>\n",
       "      <td>5.614765e+05</td>\n",
       "      <td>9991.488268</td>\n",
       "    </tr>\n",
       "    <tr>\n",
       "      <th>3</th>\n",
       "      <td>266</td>\n",
       "      <td>NAKAPERIMORU</td>\n",
       "      <td>KOTIDO</td>\n",
       "      <td>38775</td>\n",
       "      <td>419111591</td>\n",
       "      <td>Y</td>\n",
       "      <td>283.324569</td>\n",
       "      <td>852.366578</td>\n",
       "      <td>7087.823334</td>\n",
       "      <td>6761.488901</td>\n",
       "      <td>45.721712</td>\n",
       "      <td>1.915696e+06</td>\n",
       "      <td>38971.659080</td>\n",
       "    </tr>\n",
       "    <tr>\n",
       "      <th>4</th>\n",
       "      <td>267</td>\n",
       "      <td>PANYANGARA</td>\n",
       "      <td>KOTIDO</td>\n",
       "      <td>65704</td>\n",
       "      <td>880955930</td>\n",
       "      <td>Y</td>\n",
       "      <td>373.836926</td>\n",
       "      <td>1283.859882</td>\n",
       "      <td>10398.249390</td>\n",
       "      <td>10111.198130</td>\n",
       "      <td>172.611914</td>\n",
       "      <td>3.779939e+06</td>\n",
       "      <td>221609.511400</td>\n",
       "    </tr>\n",
       "    <tr>\n",
       "      <th>5</th>\n",
       "      <td>268</td>\n",
       "      <td>RENGEN</td>\n",
       "      <td>KOTIDO</td>\n",
       "      <td>41273</td>\n",
       "      <td>652744859</td>\n",
       "      <td>Y</td>\n",
       "      <td>271.185843</td>\n",
       "      <td>1047.180128</td>\n",
       "      <td>13278.520430</td>\n",
       "      <td>12964.499730</td>\n",
       "      <td>171.585704</td>\n",
       "      <td>3.515789e+06</td>\n",
       "      <td>179681.139000</td>\n",
       "    </tr>\n",
       "    <tr>\n",
       "      <th>6</th>\n",
       "      <td>591</td>\n",
       "      <td>KAABONG  EAST</td>\n",
       "      <td>KAABONG</td>\n",
       "      <td>42221</td>\n",
       "      <td>60801942</td>\n",
       "      <td>Y</td>\n",
       "      <td>160.588525</td>\n",
       "      <td>650.123565</td>\n",
       "      <td>1021.316990</td>\n",
       "      <td>1004.647534</td>\n",
       "      <td>15.660409</td>\n",
       "      <td>1.613349e+05</td>\n",
       "      <td>10181.201000</td>\n",
       "    </tr>\n",
       "    <tr>\n",
       "      <th>7</th>\n",
       "      <td>592</td>\n",
       "      <td>KAABONG TOWN COUNCIL</td>\n",
       "      <td>KAABONG</td>\n",
       "      <td>38857</td>\n",
       "      <td>13071455</td>\n",
       "      <td>Y</td>\n",
       "      <td>212.210703</td>\n",
       "      <td>1229.213444</td>\n",
       "      <td>175.080527</td>\n",
       "      <td>156.503888</td>\n",
       "      <td>18.526186</td>\n",
       "      <td>3.321180e+04</td>\n",
       "      <td>22772.636430</td>\n",
       "    </tr>\n",
       "    <tr>\n",
       "      <th>8</th>\n",
       "      <td>593</td>\n",
       "      <td>KAABONG WEST</td>\n",
       "      <td>KAABONG</td>\n",
       "      <td>41454</td>\n",
       "      <td>67612362</td>\n",
       "      <td>Y</td>\n",
       "      <td>208.040518</td>\n",
       "      <td>1056.416068</td>\n",
       "      <td>967.336727</td>\n",
       "      <td>910.254122</td>\n",
       "      <td>56.275355</td>\n",
       "      <td>1.893697e+05</td>\n",
       "      <td>59450.189420</td>\n",
       "    </tr>\n",
       "    <tr>\n",
       "      <th>9</th>\n",
       "      <td>594</td>\n",
       "      <td>KALAPATA</td>\n",
       "      <td>KAABONG</td>\n",
       "      <td>99203</td>\n",
       "      <td>223116860</td>\n",
       "      <td>Y</td>\n",
       "      <td>209.809352</td>\n",
       "      <td>633.423182</td>\n",
       "      <td>2834.349905</td>\n",
       "      <td>2501.368282</td>\n",
       "      <td>331.225795</td>\n",
       "      <td>5.248105e+05</td>\n",
       "      <td>209806.097000</td>\n",
       "    </tr>\n",
       "  </tbody>\n",
       "</table>\n",
       "</div>"
      ],
      "text/plain": [
       "   OBJECTID        SUBCOUNTY_NAME DISTRICT_NAME    POP        Area Karamoja  \\\n",
       "0       263               KACHERI        KOTIDO  17244  1067176155        Y   \n",
       "1       264                KOTIDO        KOTIDO  52771   597575188        Y   \n",
       "2       265   KOTIDO TOWN COUNCIL        KOTIDO  27389    23972401        Y   \n",
       "3       266          NAKAPERIMORU        KOTIDO  38775   419111591        Y   \n",
       "4       267            PANYANGARA        KOTIDO  65704   880955930        Y   \n",
       "5       268                RENGEN        KOTIDO  41273   652744859        Y   \n",
       "6       591         KAABONG  EAST       KAABONG  42221    60801942        Y   \n",
       "7       592  KAABONG TOWN COUNCIL       KAABONG  38857    13071455        Y   \n",
       "8       593          KAABONG WEST       KAABONG  41454    67612362        Y   \n",
       "9       594              KALAPATA       KAABONG  99203   223116860        Y   \n",
       "\n",
       "   S_Yield_Ha   M_Yield_Ha  Crop_Area_Ha     S_Area_Ha   M_Area_Ha  \\\n",
       "0  354.207411  1137.467019   7023.533691   6434.342449  528.124229   \n",
       "1  367.890523  1162.996687  13587.990760  12455.592640  824.767081   \n",
       "2  369.314177  1167.005832   1656.531855   1520.322052    8.561644   \n",
       "3  283.324569   852.366578   7087.823334   6761.488901   45.721712   \n",
       "4  373.836926  1283.859882  10398.249390  10111.198130  172.611914   \n",
       "5  271.185843  1047.180128  13278.520430  12964.499730  171.585704   \n",
       "6  160.588525   650.123565   1021.316990   1004.647534   15.660409   \n",
       "7  212.210703  1229.213444    175.080527    156.503888   18.526186   \n",
       "8  208.040518  1056.416068    967.336727    910.254122   56.275355   \n",
       "9  209.809352   633.423182   2834.349905   2501.368282  331.225795   \n",
       "\n",
       "     S_Prod_Tot     M_Prod_Tot  \n",
       "0  2.279092e+06  600723.892900  \n",
       "1  4.582294e+06  959201.382500  \n",
       "2  5.614765e+05    9991.488268  \n",
       "3  1.915696e+06   38971.659080  \n",
       "4  3.779939e+06  221609.511400  \n",
       "5  3.515789e+06  179681.139000  \n",
       "6  1.613349e+05   10181.201000  \n",
       "7  3.321180e+04   22772.636430  \n",
       "8  1.893697e+05   59450.189420  \n",
       "9  5.248105e+05  209806.097000  "
      ]
     },
     "execution_count": 9,
     "metadata": {},
     "output_type": "execute_result"
    }
   ],
   "source": [
    "#Write a code that loads the Uganda_karamoja_sub-county_crop_yield.csv\n",
    "df_1=pd.read_csv('Uganda_Karamoja_Subcounty_Crop_Yield_Population.csv')\n",
    "df_1.head(10)"
   ]
  },
  {
   "cell_type": "markdown",
   "id": "934a17f8-e82d-4d0d-b76c-ab9785e349a9",
   "metadata": {},
   "source": [
    "**Use the following attributes and methods to basically farmiliarize the dataframe structure:**\n",
    "\n",
    "+ info()\n",
    "+ shape\n",
    "+ columns\n",
    "+ type()"
   ]
  },
  {
   "cell_type": "code",
   "execution_count": 10,
   "id": "7903935a-7df8-44cd-9ebc-28bfb5cc4c0c",
   "metadata": {},
   "outputs": [
    {
     "name": "stdout",
     "output_type": "stream",
     "text": [
      "<class 'pandas.core.frame.DataFrame'>\n",
      "RangeIndex: 7 entries, 0 to 6\n",
      "Data columns (total 11 columns):\n",
      " #   Column        Non-Null Count  Dtype  \n",
      "---  ------        --------------  -----  \n",
      " 0   OBJECTID      7 non-null      int64  \n",
      " 1   NAME          7 non-null      object \n",
      " 2   POP           7 non-null      int64  \n",
      " 3   Area          7 non-null      int64  \n",
      " 4   S_Yield_Ha    7 non-null      int64  \n",
      " 5   M_Yield_Ha    7 non-null      int64  \n",
      " 6   Crop_Area_Ha  7 non-null      float64\n",
      " 7   S_Area_Ha     7 non-null      float64\n",
      " 8   M_Area_Ha     7 non-null      float64\n",
      " 9   S_Prod_Tot    7 non-null      int64  \n",
      " 10  M_Prod_Tot    7 non-null      int64  \n",
      "dtypes: float64(3), int64(7), object(1)\n",
      "memory usage: 748.0+ bytes\n"
     ]
    }
   ],
   "source": [
    "# write a code that prints out the basic information for the df dataframe \n",
    "df.info()"
   ]
  },
  {
   "cell_type": "code",
   "execution_count": 11,
   "id": "ffd9b1ba-b7e8-41d3-bd07-792d3c1e6752",
   "metadata": {},
   "outputs": [
    {
     "name": "stdout",
     "output_type": "stream",
     "text": [
      "<class 'pandas.core.frame.DataFrame'>\n",
      "RangeIndex: 52 entries, 0 to 51\n",
      "Data columns (total 13 columns):\n",
      " #   Column          Non-Null Count  Dtype  \n",
      "---  ------          --------------  -----  \n",
      " 0   OBJECTID        52 non-null     int64  \n",
      " 1   SUBCOUNTY_NAME  52 non-null     object \n",
      " 2   DISTRICT_NAME   52 non-null     object \n",
      " 3   POP             52 non-null     int64  \n",
      " 4   Area            52 non-null     int64  \n",
      " 5   Karamoja        52 non-null     object \n",
      " 6   S_Yield_Ha      52 non-null     float64\n",
      " 7   M_Yield_Ha      52 non-null     float64\n",
      " 8   Crop_Area_Ha    52 non-null     float64\n",
      " 9   S_Area_Ha       52 non-null     float64\n",
      " 10  M_Area_Ha       52 non-null     float64\n",
      " 11  S_Prod_Tot      52 non-null     float64\n",
      " 12  M_Prod_Tot      52 non-null     float64\n",
      "dtypes: float64(7), int64(3), object(3)\n",
      "memory usage: 5.4+ KB\n"
     ]
    }
   ],
   "source": [
    "# write a code that prints out the basic information for the df_1 dataframe\n",
    "df_1.info()"
   ]
  },
  {
   "cell_type": "code",
   "execution_count": 12,
   "id": "51b0e801-2342-4ec1-bf3e-fba3b48f59b9",
   "metadata": {},
   "outputs": [
    {
     "data": {
      "text/plain": [
       "(7, 11)"
      ]
     },
     "execution_count": 12,
     "metadata": {},
     "output_type": "execute_result"
    }
   ],
   "source": [
    "#print out the total number of rows and columns for the df data frame\n",
    "df.shape"
   ]
  },
  {
   "cell_type": "code",
   "execution_count": 13,
   "id": "27705c81-c854-4234-be3c-703af02b6449",
   "metadata": {},
   "outputs": [
    {
     "data": {
      "text/plain": [
       "(52, 13)"
      ]
     },
     "execution_count": 13,
     "metadata": {},
     "output_type": "execute_result"
    }
   ],
   "source": [
    "#print out the total number of rows and columns for the df_1 dataframe\n",
    "df_1.shape"
   ]
  },
  {
   "cell_type": "code",
   "execution_count": 14,
   "id": "311752d9-3a15-47e0-bfaa-fbe82b878d27",
   "metadata": {},
   "outputs": [
    {
     "data": {
      "text/plain": [
       "Index(['OBJECTID', 'NAME', 'POP', 'Area', 'S_Yield_Ha', 'M_Yield_Ha',\n",
       "       'Crop_Area_Ha', 'S_Area_Ha', 'M_Area_Ha', 'S_Prod_Tot', 'M_Prod_Tot'],\n",
       "      dtype='object')"
      ]
     },
     "execution_count": 14,
     "metadata": {},
     "output_type": "execute_result"
    }
   ],
   "source": [
    "#print out the columns for the df dataframe\n",
    "df.columns"
   ]
  },
  {
   "cell_type": "code",
   "execution_count": 15,
   "id": "7c80d5cc-2966-45a0-afcf-265738b88954",
   "metadata": {},
   "outputs": [
    {
     "data": {
      "text/plain": [
       "Index(['OBJECTID', 'SUBCOUNTY_NAME', 'DISTRICT_NAME', 'POP', 'Area',\n",
       "       'Karamoja', 'S_Yield_Ha', 'M_Yield_Ha', 'Crop_Area_Ha', 'S_Area_Ha',\n",
       "       'M_Area_Ha', 'S_Prod_Tot', 'M_Prod_Tot'],\n",
       "      dtype='object')"
      ]
     },
     "execution_count": 15,
     "metadata": {},
     "output_type": "execute_result"
    }
   ],
   "source": [
    "#print out the columns for the df_1 dataframe\n",
    "df_1.columns"
   ]
  },
  {
   "cell_type": "code",
   "execution_count": 16,
   "id": "9b82735b-5c2b-4797-81fb-954645cb9dba",
   "metadata": {},
   "outputs": [
    {
     "data": {
      "text/plain": [
       "pandas.core.frame.DataFrame"
      ]
     },
     "execution_count": 16,
     "metadata": {},
     "output_type": "execute_result"
    }
   ],
   "source": [
    "# print out the datatype for the df dataset\n",
    "type(df)"
   ]
  },
  {
   "cell_type": "code",
   "execution_count": 17,
   "id": "96e62bc6-82e5-4e9c-a0c2-f0608f2f7269",
   "metadata": {},
   "outputs": [
    {
     "data": {
      "text/plain": [
       "pandas.core.frame.DataFrame"
      ]
     },
     "execution_count": 17,
     "metadata": {},
     "output_type": "execute_result"
    }
   ],
   "source": [
    "# print out the datatype for the df_1 dataset\n",
    "type(df_1)"
   ]
  },
  {
   "cell_type": "markdown",
   "id": "a7f4e86a-e839-44ba-9cac-7d77f20b5083",
   "metadata": {},
   "source": [
    "To check if there are missing values within the dataframes use `Dataframe.isna() or isnull() functions `"
   ]
  },
  {
   "cell_type": "code",
   "execution_count": 18,
   "id": "cf419476-a8a3-40a9-8de5-3e04ca926dd3",
   "metadata": {},
   "outputs": [
    {
     "data": {
      "text/plain": [
       "OBJECTID        0\n",
       "NAME            0\n",
       "POP             0\n",
       "Area            0\n",
       "S_Yield_Ha      0\n",
       "M_Yield_Ha      0\n",
       "Crop_Area_Ha    0\n",
       "S_Area_Ha       0\n",
       "M_Area_Ha       0\n",
       "S_Prod_Tot      0\n",
       "M_Prod_Tot      0\n",
       "dtype: int64"
      ]
     },
     "execution_count": 18,
     "metadata": {},
     "output_type": "execute_result"
    }
   ],
   "source": [
    "#print out missing values within the df dataframe\n",
    "df.isna().sum()"
   ]
  },
  {
   "cell_type": "code",
   "execution_count": 19,
   "id": "02ad8d15-8fc7-4140-b284-1844ce2ef502",
   "metadata": {},
   "outputs": [
    {
     "data": {
      "text/plain": [
       "OBJECTID          0\n",
       "SUBCOUNTY_NAME    0\n",
       "DISTRICT_NAME     0\n",
       "POP               0\n",
       "Area              0\n",
       "Karamoja          0\n",
       "S_Yield_Ha        0\n",
       "M_Yield_Ha        0\n",
       "Crop_Area_Ha      0\n",
       "S_Area_Ha         0\n",
       "M_Area_Ha         0\n",
       "S_Prod_Tot        0\n",
       "M_Prod_Tot        0\n",
       "dtype: int64"
      ]
     },
     "execution_count": 19,
     "metadata": {},
     "output_type": "execute_result"
    }
   ],
   "source": [
    "# print out  missing values  within the df_1 dataframe\n",
    "df_1.isnull().sum()"
   ]
  },
  {
   "cell_type": "markdown",
   "id": "89e4d629-be4d-412e-8e70-ac08fbac43ea",
   "metadata": {},
   "source": [
    "Seems that the data clearly has no  missing vaues. checking whether there are duplicated columns use `Dataframe.duplicated() function`"
   ]
  },
  {
   "cell_type": "code",
   "execution_count": 20,
   "id": "6b784072-f10b-4f09-90af-540597f52939",
   "metadata": {},
   "outputs": [
    {
     "data": {
      "text/plain": [
       "0"
      ]
     },
     "execution_count": 20,
     "metadata": {},
     "output_type": "execute_result"
    }
   ],
   "source": [
    "#print out the duplicated columns within the df dataframe\n",
    "df.duplicated().sum()"
   ]
  },
  {
   "cell_type": "code",
   "execution_count": 21,
   "id": "7bb4850f-472c-4fd1-b76c-970aab40f558",
   "metadata": {},
   "outputs": [
    {
     "data": {
      "text/plain": [
       "0"
      ]
     },
     "execution_count": 21,
     "metadata": {},
     "output_type": "execute_result"
    }
   ],
   "source": [
    "#print out the duplicated columns within the df_1 daatframe\n",
    "df_1.duplicated().sum()"
   ]
  },
  {
   "cell_type": "markdown",
   "id": "13378c9b-7811-4b23-aeb1-045fb80b720a",
   "metadata": {},
   "source": [
    "Seems the data is clean for more analysis and visualizing"
   ]
  },
  {
   "cell_type": "markdown",
   "id": "fb1dfda5-4007-46d6-89d4-e6a674273d4b",
   "metadata": {},
   "source": [
    "### 2. Conduct descriptive Statistics and Exploratory Data Analysis (EDA)"
   ]
  },
  {
   "cell_type": "markdown",
   "id": "9533f46f-f1cd-4662-94ac-395515b4351c",
   "metadata": {},
   "source": [
    "**Explore Data Distribution**"
   ]
  },
  {
   "cell_type": "markdown",
   "id": "bfee6efe-f548-41c7-96b8-3a88fac3668a",
   "metadata": {},
   "source": [
    "Write codes that produce summary statistics, visualizations such as(scatter plots), and interpretive text describing the distributions of the `'POP'`, `'S_Yield_Ha'`,`'M_Yield_Ha'` for the `df_1  and the df dataframe(s)` by finding (mean, median and standard deviation). "
   ]
  },
  {
   "cell_type": "code",
   "execution_count": 22,
   "id": "b332b654-ea7d-4830-8a0f-30c9593b010b",
   "metadata": {},
   "outputs": [
    {
     "name": "stdout",
     "output_type": "stream",
     "text": [
      "population_mean_df_1 is :28934.69230769231\n",
      "population_median_df_1 is :23053.5\n",
      "population_std_df_1 is :20865.12297416429\n"
     ]
    }
   ],
   "source": [
    "# Write codes that print out the Mean,median, and std for the population column('POP')\n",
    "population_mean_df_1=df_1['POP'].mean()\n",
    "population_median_df_1=df_1['POP'].median()\n",
    "population_std_df_1=df_1['POP'].std()\n",
    "print(f'population_mean_df_1 is :{population_mean_df_1}')\n",
    "print(f'population_median_df_1 is :{population_median_df_1}')\n",
    "print(f'population_std_df_1 is :{population_std_df_1}')"
   ]
  },
  {
   "cell_type": "markdown",
   "id": "2dfb8fb8-ea22-499a-ab14-caf2a5c170ba",
   "metadata": {},
   "source": [
    "According to the interpretation of the output above,  the high standard deviation which is 20865.12297416429 indicates that there is a large difference in population sizes across different regions, some regions have very high populations, while others have very low populations. "
   ]
  },
  {
   "cell_type": "markdown",
   "id": "9ec80519-c950-435d-9871-d32ff119da22",
   "metadata": {},
   "source": [
    "check out for outliers "
   ]
  },
  {
   "cell_type": "code",
   "execution_count": 33,
   "id": "fd9dd800-877b-42db-9fa4-d67b9b2ab994",
   "metadata": {},
   "outputs": [
    {
     "data": {
      "image/png": "[encoded data removed]",
      "text/plain": [
       "<Figure size 640x480 with 1 Axes>"
      ]
     },
     "metadata": {},
     "output_type": "display_data"
    }
   ],
   "source": [
    "df_1['POP'].plot(kind='box',color='orange', )\n",
    "plt.show()"
   ]
  },
  {
   "cell_type": "code",
   "execution_count": 31,
   "id": "794362d4-d79f-4f70-b027-313790b4208d",
   "metadata": {},
   "outputs": [
    {
     "name": "stdout",
     "output_type": "stream",
     "text": [
      "        S_Yield_Ha   M_Yield_Ha\n",
      "mean    274.165405   940.259552\n",
      "median  277.255206  1016.684002\n",
      "std     118.569907   321.641901\n"
     ]
    }
   ],
   "source": [
    "# Write a code that prints out the mean, median and std for the crop_yield as the variable assigned to the grouped data for the ('S_Yield_Ha','M_Yield_Ha)\n",
    "grouped_yield_Ha=df_1[['S_Yield_Ha','M_Yield_Ha']].agg(['mean','median', 'std'])\n",
    "print(grouped_yield_Ha)\n"
   ]
  },
  {
   "cell_type": "markdown",
   "id": "eaf2037e-ee7d-4b69-9a59-874b7fe3dbb4",
   "metadata": {},
   "source": [
    "According to the two crops, the s_yield_Ha is higher than the M_yield_Ha . This means that the most planted crop between them is the sorghum. "
   ]
  },
  {
   "cell_type": "markdown",
   "id": "af97f575-00f6-4985-a360-a578fd9f5add",
   "metadata": {},
   "source": [
    "### 3.Integrations with tableau for stakeholders deciscion making."
   ]
  },
  {
   "cell_type": "markdown",
   "id": "9be3d6f0-fe08-4c0c-bef0-e8ad7fb48f5a",
   "metadata": {},
   "source": [
    "To access the visuals from the tableau [click here](https://public.tableau.com/app/profile/wawira.muriithi/viz/Independentproject2learn_wb_2025-02-07)"
   ]
  },
  {
   "cell_type": "markdown",
   "id": "4fddd45e-be57-4693-92d9-63d91de54aec",
   "metadata": {},
   "source": [
    "### 4. Recommendations "
   ]
  },
  {
   "cell_type": "markdown",
   "id": "e431f75e-a585-45c7-aa15-8ee806b59ccf",
   "metadata": {},
   "source": [
    "* **Conduct deep feature engineering and grouping**:by clustering districts/subcounties based on yield and population and Compare crop yield vs. population density to assess food supply adequacy.\n",
    "* **Investigate Deeper in the regions with higher or above average crop productivity** to enable clear insights for Decision making to improve the areas with low or below average crop productivity.\n",
    "*  **Use Spatial & Statistical Trends for Predictive Analysis** Without time data, use *regional trends* to infer productivity shifts and compare yield vs. crop area to detect soil degradation and climate impacts"
   ]
  },
  {
   "cell_type": "markdown",
   "id": "d79fe972-3127-4b51-aaf4-eb5b276bce7f",
   "metadata": {},
   "source": [
    "### 5. Conclusions"
   ]
  },
  {
   "cell_type": "markdown",
   "id": "8dee3463-bd93-4656-9497-1b6d1d869b39",
   "metadata": {},
   "source": [
    "This project plays a role in enhancing food security in Uganda, particularly in Karamoja. By analysing the geospatial data, statistical analysis, and predictive modeling, it provides data-driven insights that enable NGOs and researchers to take ploted actions. The integration of Tableau dashboards enhances accessibility, making it easier for stakeholders to interpret and act upon the findings.For more improvements, **expanding the dataset with time-series information and climate variables could improve future forecasting accuracy**."
   ]
  }
 ],
 "metadata": {
  "kernelspec": {
   "display_name": "Python 3 (ipykernel)",
   "language": "python",
   "name": "python3"
  },
  "language_info": {
   "codemirror_mode": {
    "name": "ipython",
    "version": 3
   },
   "file_extension": ".py",
   "mimetype": "text/x-python",
   "name": "python",
   "nbconvert_exporter": "python",
   "pygments_lexer": "ipython3",
   "version": "3.12.7"
  }
 },
 "nbformat": 4,
 "nbformat_minor": 5
}
